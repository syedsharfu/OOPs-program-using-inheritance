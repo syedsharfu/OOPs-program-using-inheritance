{
 "cells": [
  {
   "cell_type": "markdown",
   "id": "c0839887-0594-40a9-93c0-f41e06052b0d",
   "metadata": {},
   "source": [
    "1. Explain what inheritance is in object-oriented programming and why it is used."
   ]
  },
  {
   "cell_type": "raw",
   "id": "23841b75-e385-4414-9d17-ae7f2cfa6170",
   "metadata": {},
   "source": [
    "The Inheritance is a fundamental concept in object-oriented programming (OOP) that allows you to create a new class (derived or child class) based on an existing class (base or parent class). It allows you to reuse the attributes and methods of the base class and extend or override them in the derived class.\n",
    "In Python, a class can inherit from one or more base classes, creating a hierarchy of classes. This is known as multiple inheritance.\n",
    "In Python, inheritance is implemented using the class keyword, and a derived class is defined by specifying the base class inside parentheses. \n",
    "For example: \n",
    "class BaseClass:\n",
    "    # Base class attributes and methods\n",
    "\n",
    "class DerivedClass(BaseClass):\n",
    "    # Derived class attributes and methods"
   ]
  },
  {
   "cell_type": "markdown",
   "id": "5f30aa8c-f8df-4220-a325-97726bd67566",
   "metadata": {},
   "source": [
    "2. Discuss the concept of single inheritance and multiple inheritance, highlighting their\n",
    "differences and advantages."
   ]
  },
  {
   "cell_type": "raw",
   "id": "53844af2-ac7f-4111-95d1-d67c351d389d",
   "metadata": {},
   "source": [
    "Single Inheritance: Single inheritance is a concept where a class inherits from only one base class. Single Inheritance has a single parent class.\n",
    "Advantages:\n",
    "Simplicity: Single inheritance is conceptually simpler and easier to understand. It enforces a clear hierarchical relationship between classes.\n",
    "Avoiding Ambiguity: There is no ambiguity in method or attribute resolution, as there is only one parent class.\n",
    "Single Inheritance promotes a simpler and more structured class hierarchy, making it easier to understand and maintain.\n",
    "\n",
    "Multiple Inheritance: Multiple inheritance is a concept where a class can inherit from more than one base class. This means that a derived class can have multiple parent classes.\n",
    "Advantages:\n",
    "Reusability: Multiple inheritance allows you to inherit and combine functionality from multiple sources, promoting code reuse.\n",
    "Versatility: It provides greater flexibility in modeling complex relationships and sharing functionality among different classes.\n",
    "Multiple Inheritance offers greater flexibility and code reusability, allowing you to create complex class hierarchies by inheriting from multiple sources.\n",
    "\n",
    "Differences:\n",
    "Number of Base Classes: The most obvious difference is that single inheritance allows a class to inherit from a single base class, while multiple inheritance allows a class to inherit from multiple base classes.\n",
    "Method and Attribute Resolution: In single inheritance, there is no ambiguity in method or attribute resolution. In multiple inheritance, there can be ambiguity if two or more base classes have methods or attributes with the same name. This requires explicit disambiguation."
   ]
  },
  {
   "cell_type": "markdown",
   "id": "32ddb4b9-c342-42ab-85d8-f0abb504de62",
   "metadata": {},
   "source": [
    "3. Explain the terms \"base class\" and \"derived class\" in the context of inheritance."
   ]
  },
  {
   "cell_type": "raw",
   "id": "41b2aafa-7d73-49d3-82f0-698bdc2212e6",
   "metadata": {},
   "source": [
    "In the context of inheritance in OOPS, \"base class\" and \"derived class\" are fundamental terms used to describe the relationships between classes within a class hierarchy. These terms help to understand how classes inherit attributes and behaviors from one another.\n",
    "\n",
    "Base Class (Parent Class):A base class is the class from which another class, called the derived class, inherits attributes and behaviors.\n",
    "The base class defines the blueprint for the derived classes. It serves as a template that can be extended or customized by the derived classes.\n",
    "\n",
    "Derived Class (Child Class, Subclass): A derived class is the class that inherits attributes and behaviors from a base class.\n",
    "It is often more specific and specialized than the base class, as it may add additional attributes or methods, override existing ones, or provide unique functionality. Derived classes inherit the attributes and methods of the base class, and they can also have their own attributes and methods."
   ]
  },
  {
   "cell_type": "markdown",
   "id": "086fd43a-4e1e-436f-94ed-cdfa861641fb",
   "metadata": {},
   "source": [
    "4. What is the significance of the \"protected\" access modifier in inheritance? How does\n",
    "it differ from \"private\" and \"public\" modifiers?"
   ]
  },
  {
   "cell_type": "raw",
   "id": "f9a8047e-f0fe-4531-9d2c-17574b73bd8d",
   "metadata": {},
   "source": [
    "The protected access modifier is primarily significant in the context of inheritance because it allows derived classes to access and use the protected members of the base class. This is especially useful when you want to share some common attributes or methods between the base and derived classes, while still maintaining some level of encapsulation. The \"protected\" modifier is more permissive than \"private\" and less permissive than \"public.\" It enables the base class and its subclasses to share certain implementation details without exposing them to external code.\n",
    "\n",
    "Differences from \"Private\" and \"Public\" Modifiers:\n",
    "Private: Private members are meant for internal use within a single class. They are not accessible from derived classes or external code. In Python, this access level is indicated by prefixing the member name with an underscore.\n",
    "\n",
    "Protected: Protected members are intended to be used within the class and its derived classes. They are not meant to be accessed from external code, but there is no strict enforcement in the language. In Python, this is also indicated by prefixing the member name with an underscore.\n",
    "\n",
    "Public: Public members are accessible from anywhere, including within the class, derived classes, and external code. There are no access restrictions on public members."
   ]
  },
  {
   "cell_type": "markdown",
   "id": "c7f07d9f-b0f0-42bb-983c-d00ae33f056b",
   "metadata": {},
   "source": [
    "5. What is the purpose of the \"super\" keyword in inheritance? Provide an example."
   ]
  },
  {
   "cell_type": "raw",
   "id": "21f96507-3a68-45a1-86d9-d5c63a72384b",
   "metadata": {},
   "source": [
    "The super keyword in inheritance is used to call a method or access an attribute of the parent class (superclass) from the context of a derived class (subclass). The primary purpose of the super keyword is to facilitate the reuse of code and maintain the hierarchical structure of the class hierarchy. It allows you to avoid duplicating the code from the parent class in the derived class."
   ]
  },
  {
   "cell_type": "code",
   "execution_count": 1,
   "id": "2bc8112f-c80a-4f4e-9bb0-6a383ff0e94d",
   "metadata": {},
   "outputs": [],
   "source": [
    "#example\n",
    "class person:\n",
    "    def __init__(self,name):\n",
    "        self.name=name\n",
    "        \n",
    "    def display_info(self):\n",
    "        print(f\"name is :{self.name}\")"
   ]
  },
  {
   "cell_type": "code",
   "execution_count": 2,
   "id": "9016d32a-4ab2-4ab9-9748-39c3bc1e30a8",
   "metadata": {},
   "outputs": [
    {
     "name": "stdout",
     "output_type": "stream",
     "text": [
      "name is :syed sharfuddin\n"
     ]
    }
   ],
   "source": [
    "person1=person(\"syed sharfuddin\")\n",
    "person1.display_info()"
   ]
  },
  {
   "cell_type": "code",
   "execution_count": 3,
   "id": "1178b436-a01c-4650-b1a8-91e73a275e51",
   "metadata": {},
   "outputs": [],
   "source": [
    "class student(person):\n",
    "    def __init__(self,name,grade):\n",
    "        super().__init__(name)\n",
    "        self.grade=grade\n",
    "        \n",
    "    def display_info(self):\n",
    "            super().display_info()\n",
    "            print(f\"grade is : {self.grade}\")"
   ]
  },
  {
   "cell_type": "code",
   "execution_count": 4,
   "id": "69d8f7c6-7fb0-46b7-8a6a-869c2b26c762",
   "metadata": {},
   "outputs": [
    {
     "name": "stdout",
     "output_type": "stream",
     "text": [
      "name is :syed\n",
      "grade is : A\n"
     ]
    }
   ],
   "source": [
    "student1= student(\"syed\",\"A\")\n",
    "student1.display_info()"
   ]
  },
  {
   "cell_type": "markdown",
   "id": "2e7e1f61-21b7-4d45-aafb-f917fee35549",
   "metadata": {},
   "source": [
    "6. Create a base class called \"Vehicle\" with attributes like \"make\", \"model\", and \"year\".\n",
    "Then, create a derived class called \"Car\" that inherits from \"Vehicle\" and adds an\n",
    "attribute called \"fuel_type\". Implement appropriate methods in both classes."
   ]
  },
  {
   "cell_type": "code",
   "execution_count": 33,
   "id": "c658d009-b2e8-403e-9b85-d5719b00f693",
   "metadata": {},
   "outputs": [],
   "source": [
    "class vehicle:\n",
    "    def __init__(self,make,model,year):\n",
    "        self.make=make\n",
    "        self.model=model\n",
    "        self.year=year\n",
    "        \n",
    "    def display_info(self):\n",
    "        print(f\"The {self.make} of {self.model} model {self.year} is set to launch\")"
   ]
  },
  {
   "cell_type": "code",
   "execution_count": 34,
   "id": "3f8961a7-f940-4180-9d75-d4575861fc83",
   "metadata": {},
   "outputs": [
    {
     "name": "stdout",
     "output_type": "stream",
     "text": [
      "The sports of latest model 2023 is set to launch\n"
     ]
    }
   ],
   "source": [
    "vehicle1=vehicle(\"sports\",\"latest\",2023)\n",
    "vehicle1.display_info()"
   ]
  },
  {
   "cell_type": "code",
   "execution_count": 38,
   "id": "e23fd111-57e6-4213-a940-5ece15785763",
   "metadata": {},
   "outputs": [],
   "source": [
    "class car(vehicle):\n",
    "    def __init__(self,fuel_type):\n",
    "        self.fuel_type=fuel_type\n",
    "        \n",
    "    def display_info(self):\n",
    "        print(f\"It is the {self.fuel_type} Engine\")"
   ]
  },
  {
   "cell_type": "code",
   "execution_count": 39,
   "id": "32b1f16c-191c-44c7-b29e-fb4f8b769b67",
   "metadata": {},
   "outputs": [
    {
     "name": "stdout",
     "output_type": "stream",
     "text": [
      "It is the Petrol Engine\n"
     ]
    }
   ],
   "source": [
    "car1=car(\"Petrol\")\n",
    "car1.display_info()"
   ]
  },
  {
   "cell_type": "code",
   "execution_count": 40,
   "id": "d5d21c9d-efeb-47a1-8559-4ab9ed1393b1",
   "metadata": {},
   "outputs": [
    {
     "name": "stdout",
     "output_type": "stream",
     "text": [
      "The sports of latest model 2023 is set to launch\n",
      "It is the Petrol Engine\n"
     ]
    }
   ],
   "source": [
    "vehicle1.display_info()\n",
    "car1.display_info()"
   ]
  },
  {
   "cell_type": "code",
   "execution_count": 52,
   "id": "2dff37c2-a0e3-4ecc-b0fb-86e46a21ee5b",
   "metadata": {},
   "outputs": [],
   "source": [
    "class Vehicle:\n",
    "    def __init__(self, make, model, year):\n",
    "        self.make = make\n",
    "        self.model = model\n",
    "        self.year = year\n",
    "\n",
    "    def display_info(self):\n",
    "        print (f\"{self.year} {self.make} {self.model}\")\n"
   ]
  },
  {
   "cell_type": "code",
   "execution_count": 53,
   "id": "88b47aba-8619-4a53-8c64-c5fd89197290",
   "metadata": {},
   "outputs": [
    {
     "name": "stdout",
     "output_type": "stream",
     "text": [
      "2023 TATA Sports\n"
     ]
    }
   ],
   "source": [
    "Vehicle1=Vehicle(\"TATA\", \"Sports\", 2023)\n",
    "Vehicle1.display_info()"
   ]
  },
  {
   "cell_type": "code",
   "execution_count": 54,
   "id": "748d6869-1d6f-4479-a516-d37067e0c64f",
   "metadata": {},
   "outputs": [],
   "source": [
    "class Car(Vehicle):\n",
    "    def __init__(self, make, model, year, fuel_type):\n",
    "        super().__init__(make, model, year)\n",
    "        self.fuel_type = fuel_type\n",
    "\n",
    "    def display_info(self):\n",
    "        super().display_info()\n",
    "        print (f\"Fuel Type: {self.fuel_type}\")"
   ]
  },
  {
   "cell_type": "code",
   "execution_count": 55,
   "id": "4148926d-7407-4426-8492-d34e1386d757",
   "metadata": {},
   "outputs": [
    {
     "name": "stdout",
     "output_type": "stream",
     "text": [
      "2023 tata Elite\n",
      "Fuel Type: Petrol\n"
     ]
    }
   ],
   "source": [
    "Car1=Car(\"tata\", \"Elite\", 2023, \"Petrol\")\n",
    "Car1.display_info()"
   ]
  },
  {
   "cell_type": "markdown",
   "id": "45432589-0154-4e42-ae45-233f9f87a38e",
   "metadata": {},
   "source": [
    "7. Create a base class called \"Employee\" with attributes like \"name\" and \"salary.\"\n",
    "Derive two classes, \"Manager\" and \"Developer,\" from \"Employee.\" Add an additional\n",
    "attribute called \"department\" for the \"Manager\" class and \"programming_language\"\n",
    "for the \"Developer\" class."
   ]
  },
  {
   "cell_type": "code",
   "execution_count": 79,
   "id": "552179ab-59fe-44c8-b47e-bcff0d303a28",
   "metadata": {},
   "outputs": [],
   "source": [
    "class Employee:\n",
    "    def __init__(self, name, salary):\n",
    "        self.name = name\n",
    "        self.salary = salary\n",
    "\n",
    "    def display_info(self):\n",
    "        print (f\"{self.name} salary is {self.salary}\")"
   ]
  },
  {
   "cell_type": "code",
   "execution_count": 80,
   "id": "b83fda9b-0089-4298-a072-186c0eb710b3",
   "metadata": {},
   "outputs": [
    {
     "name": "stdout",
     "output_type": "stream",
     "text": [
      "Syed salary is 100000\n"
     ]
    }
   ],
   "source": [
    "Employee1=Employee(\"Syed\", 100000)\n",
    "Employee1.display_info()"
   ]
  },
  {
   "cell_type": "code",
   "execution_count": 81,
   "id": "ace0e887-fdb0-452e-8dbd-553cb3238aa3",
   "metadata": {},
   "outputs": [],
   "source": [
    "class manager(Employee):\n",
    "    def __init__(self,name, salary, department):\n",
    "        super().__init__(name, salary)\n",
    "        self.department=department\n",
    "        \n",
    "    def display_info(self):\n",
    "        super().display_info()\n",
    "        print(f\"Employee is of {self.department} department\")\n",
    "        \n",
    "        \n",
    "class developer(Employee):\n",
    "    def __init__(self,name,salary,programming_language):\n",
    "        super().__init__(name,salary)\n",
    "        self.programming_language=programming_language\n",
    "              \n",
    "    def display_info(self):\n",
    "        super().display_info()\n",
    "        print(f\"Employee is specialized in {self.programming_language} language\")"
   ]
  },
  {
   "cell_type": "code",
   "execution_count": 82,
   "id": "fd25a698-14ac-41f5-8c5f-9c82a7eb7259",
   "metadata": {},
   "outputs": [
    {
     "name": "stdout",
     "output_type": "stream",
     "text": [
      "krish salary is 1000000\n",
      "Employee is of DATA Science department\n",
      "sharfuddin salary is 200000\n",
      "Employee is specialized in phyton language\n"
     ]
    }
   ],
   "source": [
    "manager1=manager(\"krish\", 1000000, \"DATA Science\")\n",
    "developer1=developer(\"sharfuddin\", 200000, \"phyton\")\n",
    "manager1.display_info()\n",
    "developer1.display_info()"
   ]
  },
  {
   "cell_type": "markdown",
   "id": "4237713e-ac9a-41c5-989f-ae3f11a47748",
   "metadata": {},
   "source": [
    "8. Design a base class called \"Shape\" with attributes like \"colour\" and \"border_width.\"\n",
    "Create derived classes, \"Rectangle\" and \"Circle,\" that inherit from \"Shape\" and add\n",
    "specific attributes like \"length\" and \"width\" for the \"Rectangle\" class and \"radius\" for\n",
    "the \"Circle\" class."
   ]
  },
  {
   "cell_type": "code",
   "execution_count": 93,
   "id": "04b1617d-387e-420d-b403-1710705308e0",
   "metadata": {},
   "outputs": [],
   "source": [
    "class Shape:\n",
    "    def __init__(self, color, border_width):\n",
    "        self.color = color\n",
    "        self.border_width = border_width\n",
    "\n",
    "    def display_info(self):\n",
    "        print (f\"Color: {self.color}, Border Width: {self.border_width}\")\n",
    "\n",
    "class Rectangle(Shape):\n",
    "    def __init__(self, color, border_width, length, width):\n",
    "        super().__init__(color, border_width)\n",
    "        self.length = length\n",
    "        self.width = width\n",
    "\n",
    "    def display_info(self):\n",
    "        super().display_info()\n",
    "        print (f\"Length: {self.length}, Width: {self.width}\")\n",
    "\n",
    "class Circle(Shape):\n",
    "    def __init__(self, color, border_width, radius):\n",
    "        super().__init__(color, border_width)\n",
    "        self.radius = radius\n",
    "\n",
    "    def display_info(self):\n",
    "        super().display_info()\n",
    "        print (f\"Radius: {self.radius}\")"
   ]
  },
  {
   "cell_type": "code",
   "execution_count": 94,
   "id": "742f8bd8-1ce7-4672-b115-c6e6da01ef1f",
   "metadata": {},
   "outputs": [
    {
     "name": "stdout",
     "output_type": "stream",
     "text": [
      "Color: Blue, Border Width: 30\n",
      "Color: yello, Border Width: 30\n",
      "Length: 10, Width: 40\n",
      "Color: pink, Border Width: 20\n",
      "Radius: 5cm\n"
     ]
    }
   ],
   "source": [
    "Shape1=Shape(\"Blue\", 30)\n",
    "Rectangle1=Rectangle(\"yello\",30,10,40)\n",
    "Circle1=Circle(\"pink\",20,\"5cm\")\n",
    "\n",
    "Shape1.display_info()\n",
    "Rectangle1.display_info()\n",
    "Circle1.display_info()"
   ]
  },
  {
   "cell_type": "markdown",
   "id": "fc7a0a61-ed53-407c-822d-b4e7e8b4585c",
   "metadata": {},
   "source": [
    "9. Create a base class called \"Device\" with attributes like \"brand\" and \"model.\" Derive\n",
    "two classes, \"Phone\" and \"Tablet,\" from \"Device.\" Add specific attributes like\n",
    "\"screen_size\" for the \"Phone\" class and \"battery_capacity\" for the \"Tablet\" class."
   ]
  },
  {
   "cell_type": "code",
   "execution_count": 102,
   "id": "33055858-8ad9-4304-acae-f03875c22422",
   "metadata": {},
   "outputs": [],
   "source": [
    "class Device:\n",
    "    def __init__(self, brand, model):\n",
    "        self.brand = brand\n",
    "        self.model = model\n",
    "\n",
    "    def display_info(self):\n",
    "        print (f\"The brand is {self.brand}, and model is {self.model}\")\n",
    "\n",
    "class Phone(Device):\n",
    "    def __init__(self, brand, model, screen_size):\n",
    "        super().__init__(brand, model)\n",
    "        self.screen_size = screen_size\n",
    "\n",
    "    def display_info(self):\n",
    "        super().display_info()\n",
    "        print (f\"has {self.screen_size}\")\n",
    "\n",
    "class Tablet(Device):\n",
    "    def __init__(self, brand, model, battery_capacity):\n",
    "        super().__init__(brand, model)\n",
    "        self.battery_capacity = battery_capacity\n",
    "\n",
    "    def display_info(self):\n",
    "        super().display_info()\n",
    "        print (f\"has {self.battery_capacity} battery capacity\")"
   ]
  },
  {
   "cell_type": "code",
   "execution_count": 103,
   "id": "9a6b9b1b-e910-4ece-a1b5-578c258ba3c6",
   "metadata": {},
   "outputs": [
    {
     "name": "stdout",
     "output_type": "stream",
     "text": [
      "The brand is Samsung, and model is S24\n",
      "The brand is oppo, and model is y series\n",
      "has 6ich\n",
      "The brand is Ipad, and model is mac\n",
      "has 5000MAH battery capacity\n"
     ]
    }
   ],
   "source": [
    "Device1=Device(\"Samsung\", \"S24\")\n",
    "Phone1=Phone(\"oppo\",\"y series\", \"6ich\")\n",
    "Tablet1=Tablet(\"Ipad\",\"mac\",\"5000MAH\")\n",
    "\n",
    "Device1.display_info()\n",
    "Phone1.display_info()\n",
    "Tablet1.display_info()"
   ]
  },
  {
   "cell_type": "markdown",
   "id": "aebda71f-62d6-48be-a034-d71c5dad2c15",
   "metadata": {},
   "source": [
    "10. Create a base class called \"BankAccount\" with attributes like \"account_number\" and\n",
    "\"balance.\" Derive two classes, \"SavingsAccount\" and \"CheckingAccount,\" from\n",
    "\"BankAccount.\" Add specific methods like \"calculate_interest\" for the\n",
    "\"SavingsAccount\" class and \"deduct_fees\" for the \"CheckingAccount\" class."
   ]
  },
  {
   "cell_type": "code",
   "execution_count": 104,
   "id": "c8e8cf2c-e8aa-4ac4-bb96-1b6b9fecdfcc",
   "metadata": {},
   "outputs": [],
   "source": [
    "class BankAccount:\n",
    "    def __init__(self, account_number, balance):\n",
    "        self.account_number = account_number\n",
    "        self.balance = balance\n",
    "\n",
    "    def display_info(self):\n",
    "        print (f\"Account Number: {self.account_number}, Balance: ${self.balance}\")\n",
    "\n",
    "class SavingsAccount(BankAccount):\n",
    "    def __init__(self, account_number, balance, interest_rate):\n",
    "        super().__init__(account_number, balance)\n",
    "        self.interest_rate = interest_rate\n",
    "\n",
    "    def calculate_interest(self):\n",
    "        interest_earned = self.balance * (self.interest_rate / 100)\n",
    "        self.balance += interest_earned\n",
    "        print (f\"Interest Earned: ${interest_earned}\")\n",
    "\n",
    "class CheckingAccount(BankAccount):\n",
    "    def __init__(self, account_number, balance, monthly_fee):\n",
    "        super().__init__(account_number, balance)\n",
    "        self.monthly_fee = monthly_fee\n",
    "\n",
    "    def deduct_fees(self):\n",
    "        if self.balance >= self.monthly_fee:\n",
    "            self.balance -= self.monthly_fee\n",
    "            print (f\"Deducted Monthly Fee: ${self.monthly_fee}\")\n",
    "        else:\n",
    "            print (\"Insufficient balance to deduct monthly fee.\")"
   ]
  },
  {
   "cell_type": "code",
   "execution_count": 106,
   "id": "fa1485d9-9274-4e40-9655-d8007b81d78c",
   "metadata": {},
   "outputs": [
    {
     "name": "stdout",
     "output_type": "stream",
     "text": [
      "Account Number: 123456789, Balance: $5000\n",
      "Savings Account Information: None\n",
      "Interest Earned: $125.0\n",
      "None\n",
      "Account Number: 987654321, Balance: $3000\n",
      "Checking Account Information: None\n",
      "Deducted Monthly Fee: $10\n",
      "None\n"
     ]
    }
   ],
   "source": [
    "savings_account = SavingsAccount(\"123456789\", 5000, 2.5)\n",
    "checking_account = CheckingAccount(\"987654321\", 3000, 10)\n",
    "\n",
    "print(\"Savings Account Information:\", savings_account.display_info())\n",
    "print(savings_account.calculate_interest())\n",
    "\n",
    "print(\"Checking Account Information:\", checking_account.display_info())\n",
    "print(checking_account.deduct_fees())"
   ]
  }
 ],
 "metadata": {
  "kernelspec": {
   "display_name": "Python 3 (ipykernel)",
   "language": "python",
   "name": "python3"
  },
  "language_info": {
   "codemirror_mode": {
    "name": "ipython",
    "version": 3
   },
   "file_extension": ".py",
   "mimetype": "text/x-python",
   "name": "python",
   "nbconvert_exporter": "python",
   "pygments_lexer": "ipython3",
   "version": "3.10.6"
  }
 },
 "nbformat": 4,
 "nbformat_minor": 5
}
